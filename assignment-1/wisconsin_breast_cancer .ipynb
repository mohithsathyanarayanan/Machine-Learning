{
  "nbformat": 4,
  "nbformat_minor": 2,
  "metadata": {
    "orig_nbformat": 4,
    "language_info": {
      "name": "python",
      "version": "3.8.5",
      "mimetype": "text/x-python",
      "codemirror_mode": {
        "name": "ipython",
        "version": 3
      },
      "pygments_lexer": "ipython3",
      "nbconvert_exporter": "python",
      "file_extension": ".py"
    },
    "kernelspec": {
      "name": "python3",
      "display_name": "Python 3.8.5 64-bit"
    },
    "interpreter": {
      "hash": "31f2aee4e71d21fbe5cf8b01ff0e069b9275f58929596ceb00d14d90e3e16cd6"
    },
    "colab": {
      "name": "wisconsin_breast_cancer.ipynb",
      "provenance": []
    }
  },
  "cells": [
    {
      "cell_type": "markdown",
      "source": [
        "# WISCONSIN BREAST CANCER"
      ],
      "metadata": {
        "id": "XbwII0O3z-tw"
      }
    },
    {
      "cell_type": "code",
      "execution_count": null,
      "source": [
        "import numpy as np \n",
        "import pandas as pd\n",
        "import matplotlib.pyplot as plt\n",
        "import seaborn as sns\n",
        "import math\n",
        "import collections\n",
        "main_dataframe = pd.read_csv(\"breast-cancer-wisconsin.data\",header=None)\n",
        "main_dataframe.head()"
      ],
      "outputs": [
        {
          "output_type": "execute_result",
          "data": {
            "text/html": [
              "<div>\n",
              "<style scoped>\n",
              "    .dataframe tbody tr th:only-of-type {\n",
              "        vertical-align: middle;\n",
              "    }\n",
              "\n",
              "    .dataframe tbody tr th {\n",
              "        vertical-align: top;\n",
              "    }\n",
              "\n",
              "    .dataframe thead th {\n",
              "        text-align: right;\n",
              "    }\n",
              "</style>\n",
              "<table border=\"1\" class=\"dataframe\">\n",
              "  <thead>\n",
              "    <tr style=\"text-align: right;\">\n",
              "      <th></th>\n",
              "      <th>0</th>\n",
              "      <th>1</th>\n",
              "      <th>2</th>\n",
              "      <th>3</th>\n",
              "      <th>4</th>\n",
              "      <th>5</th>\n",
              "      <th>6</th>\n",
              "      <th>7</th>\n",
              "      <th>8</th>\n",
              "      <th>9</th>\n",
              "      <th>10</th>\n",
              "    </tr>\n",
              "  </thead>\n",
              "  <tbody>\n",
              "    <tr>\n",
              "      <th>0</th>\n",
              "      <td>1000025</td>\n",
              "      <td>5</td>\n",
              "      <td>1</td>\n",
              "      <td>1</td>\n",
              "      <td>1</td>\n",
              "      <td>2</td>\n",
              "      <td>1</td>\n",
              "      <td>3</td>\n",
              "      <td>1</td>\n",
              "      <td>1</td>\n",
              "      <td>2</td>\n",
              "    </tr>\n",
              "    <tr>\n",
              "      <th>1</th>\n",
              "      <td>1002945</td>\n",
              "      <td>5</td>\n",
              "      <td>4</td>\n",
              "      <td>4</td>\n",
              "      <td>5</td>\n",
              "      <td>7</td>\n",
              "      <td>10</td>\n",
              "      <td>3</td>\n",
              "      <td>2</td>\n",
              "      <td>1</td>\n",
              "      <td>2</td>\n",
              "    </tr>\n",
              "    <tr>\n",
              "      <th>2</th>\n",
              "      <td>1015425</td>\n",
              "      <td>3</td>\n",
              "      <td>1</td>\n",
              "      <td>1</td>\n",
              "      <td>1</td>\n",
              "      <td>2</td>\n",
              "      <td>2</td>\n",
              "      <td>3</td>\n",
              "      <td>1</td>\n",
              "      <td>1</td>\n",
              "      <td>2</td>\n",
              "    </tr>\n",
              "    <tr>\n",
              "      <th>3</th>\n",
              "      <td>1016277</td>\n",
              "      <td>6</td>\n",
              "      <td>8</td>\n",
              "      <td>8</td>\n",
              "      <td>1</td>\n",
              "      <td>3</td>\n",
              "      <td>4</td>\n",
              "      <td>3</td>\n",
              "      <td>7</td>\n",
              "      <td>1</td>\n",
              "      <td>2</td>\n",
              "    </tr>\n",
              "    <tr>\n",
              "      <th>4</th>\n",
              "      <td>1017023</td>\n",
              "      <td>4</td>\n",
              "      <td>1</td>\n",
              "      <td>1</td>\n",
              "      <td>3</td>\n",
              "      <td>2</td>\n",
              "      <td>1</td>\n",
              "      <td>3</td>\n",
              "      <td>1</td>\n",
              "      <td>1</td>\n",
              "      <td>2</td>\n",
              "    </tr>\n",
              "  </tbody>\n",
              "</table>\n",
              "</div>"
            ],
            "text/plain": [
              "        0   1   2   3   4   5   6   7   8   9   10\n",
              "0  1000025   5   1   1   1   2   1   3   1   1   2\n",
              "1  1002945   5   4   4   5   7  10   3   2   1   2\n",
              "2  1015425   3   1   1   1   2   2   3   1   1   2\n",
              "3  1016277   6   8   8   1   3   4   3   7   1   2\n",
              "4  1017023   4   1   1   3   2   1   3   1   1   2"
            ]
          },
          "metadata": {},
          "execution_count": 42
        }
      ],
      "metadata": {
        "colab": {
          "base_uri": "https://localhost:8080/",
          "height": 204
        },
        "id": "rwEEx3wRz-t3",
        "outputId": "58f431f3-bd92-455e-b6f5-effb2fedc473"
      }
    },
    {
      "cell_type": "markdown",
      "source": [
        "# Preprocessing"
      ],
      "metadata": {}
    },
    {
      "cell_type": "code",
      "execution_count": null,
      "source": [
        "#renaming coloumns and dropping id coloumn as it is of no significance \n",
        "main_dataframe.columns = [\"id\",\"clumpthickness\", \"uniformityofcellsize\",\"uniformityofcellshape\",\"marginaladhesion\",\"singleepithelialcellsize\",\"barenuclei\",\"blandchromatin\",\"normalnucleoli\",\"mitoses\",\"classification\"]\n",
        "main_dataframe = main_dataframe.drop([\"id\"],axis=1)\n",
        "main_dataframe"
      ],
      "outputs": [
        {
          "output_type": "execute_result",
          "data": {
            "text/html": [
              "<div>\n",
              "<style scoped>\n",
              "    .dataframe tbody tr th:only-of-type {\n",
              "        vertical-align: middle;\n",
              "    }\n",
              "\n",
              "    .dataframe tbody tr th {\n",
              "        vertical-align: top;\n",
              "    }\n",
              "\n",
              "    .dataframe thead th {\n",
              "        text-align: right;\n",
              "    }\n",
              "</style>\n",
              "<table border=\"1\" class=\"dataframe\">\n",
              "  <thead>\n",
              "    <tr style=\"text-align: right;\">\n",
              "      <th></th>\n",
              "      <th>clumpthickness</th>\n",
              "      <th>uniformityofcellsize</th>\n",
              "      <th>uniformityofcellshape</th>\n",
              "      <th>marginaladhesion</th>\n",
              "      <th>singleepithelialcellsize</th>\n",
              "      <th>barenuclei</th>\n",
              "      <th>blandchromatin</th>\n",
              "      <th>normalnucleoli</th>\n",
              "      <th>mitoses</th>\n",
              "      <th>classification</th>\n",
              "    </tr>\n",
              "  </thead>\n",
              "  <tbody>\n",
              "    <tr>\n",
              "      <th>0</th>\n",
              "      <td>5</td>\n",
              "      <td>1</td>\n",
              "      <td>1</td>\n",
              "      <td>1</td>\n",
              "      <td>2</td>\n",
              "      <td>1</td>\n",
              "      <td>3</td>\n",
              "      <td>1</td>\n",
              "      <td>1</td>\n",
              "      <td>2</td>\n",
              "    </tr>\n",
              "    <tr>\n",
              "      <th>1</th>\n",
              "      <td>5</td>\n",
              "      <td>4</td>\n",
              "      <td>4</td>\n",
              "      <td>5</td>\n",
              "      <td>7</td>\n",
              "      <td>10</td>\n",
              "      <td>3</td>\n",
              "      <td>2</td>\n",
              "      <td>1</td>\n",
              "      <td>2</td>\n",
              "    </tr>\n",
              "    <tr>\n",
              "      <th>2</th>\n",
              "      <td>3</td>\n",
              "      <td>1</td>\n",
              "      <td>1</td>\n",
              "      <td>1</td>\n",
              "      <td>2</td>\n",
              "      <td>2</td>\n",
              "      <td>3</td>\n",
              "      <td>1</td>\n",
              "      <td>1</td>\n",
              "      <td>2</td>\n",
              "    </tr>\n",
              "    <tr>\n",
              "      <th>3</th>\n",
              "      <td>6</td>\n",
              "      <td>8</td>\n",
              "      <td>8</td>\n",
              "      <td>1</td>\n",
              "      <td>3</td>\n",
              "      <td>4</td>\n",
              "      <td>3</td>\n",
              "      <td>7</td>\n",
              "      <td>1</td>\n",
              "      <td>2</td>\n",
              "    </tr>\n",
              "    <tr>\n",
              "      <th>4</th>\n",
              "      <td>4</td>\n",
              "      <td>1</td>\n",
              "      <td>1</td>\n",
              "      <td>3</td>\n",
              "      <td>2</td>\n",
              "      <td>1</td>\n",
              "      <td>3</td>\n",
              "      <td>1</td>\n",
              "      <td>1</td>\n",
              "      <td>2</td>\n",
              "    </tr>\n",
              "    <tr>\n",
              "      <th>...</th>\n",
              "      <td>...</td>\n",
              "      <td>...</td>\n",
              "      <td>...</td>\n",
              "      <td>...</td>\n",
              "      <td>...</td>\n",
              "      <td>...</td>\n",
              "      <td>...</td>\n",
              "      <td>...</td>\n",
              "      <td>...</td>\n",
              "      <td>...</td>\n",
              "    </tr>\n",
              "    <tr>\n",
              "      <th>694</th>\n",
              "      <td>3</td>\n",
              "      <td>1</td>\n",
              "      <td>1</td>\n",
              "      <td>1</td>\n",
              "      <td>3</td>\n",
              "      <td>2</td>\n",
              "      <td>1</td>\n",
              "      <td>1</td>\n",
              "      <td>1</td>\n",
              "      <td>2</td>\n",
              "    </tr>\n",
              "    <tr>\n",
              "      <th>695</th>\n",
              "      <td>2</td>\n",
              "      <td>1</td>\n",
              "      <td>1</td>\n",
              "      <td>1</td>\n",
              "      <td>2</td>\n",
              "      <td>1</td>\n",
              "      <td>1</td>\n",
              "      <td>1</td>\n",
              "      <td>1</td>\n",
              "      <td>2</td>\n",
              "    </tr>\n",
              "    <tr>\n",
              "      <th>696</th>\n",
              "      <td>5</td>\n",
              "      <td>10</td>\n",
              "      <td>10</td>\n",
              "      <td>3</td>\n",
              "      <td>7</td>\n",
              "      <td>3</td>\n",
              "      <td>8</td>\n",
              "      <td>10</td>\n",
              "      <td>2</td>\n",
              "      <td>4</td>\n",
              "    </tr>\n",
              "    <tr>\n",
              "      <th>697</th>\n",
              "      <td>4</td>\n",
              "      <td>8</td>\n",
              "      <td>6</td>\n",
              "      <td>4</td>\n",
              "      <td>3</td>\n",
              "      <td>4</td>\n",
              "      <td>10</td>\n",
              "      <td>6</td>\n",
              "      <td>1</td>\n",
              "      <td>4</td>\n",
              "    </tr>\n",
              "    <tr>\n",
              "      <th>698</th>\n",
              "      <td>4</td>\n",
              "      <td>8</td>\n",
              "      <td>8</td>\n",
              "      <td>5</td>\n",
              "      <td>4</td>\n",
              "      <td>5</td>\n",
              "      <td>10</td>\n",
              "      <td>4</td>\n",
              "      <td>1</td>\n",
              "      <td>4</td>\n",
              "    </tr>\n",
              "  </tbody>\n",
              "</table>\n",
              "<p>699 rows × 10 columns</p>\n",
              "</div>"
            ],
            "text/plain": [
              "     clumpthickness  uniformityofcellsize  uniformityofcellshape  \\\n",
              "0                 5                     1                      1   \n",
              "1                 5                     4                      4   \n",
              "2                 3                     1                      1   \n",
              "3                 6                     8                      8   \n",
              "4                 4                     1                      1   \n",
              "..              ...                   ...                    ...   \n",
              "694               3                     1                      1   \n",
              "695               2                     1                      1   \n",
              "696               5                    10                     10   \n",
              "697               4                     8                      6   \n",
              "698               4                     8                      8   \n",
              "\n",
              "     marginaladhesion  singleepithelialcellsize barenuclei  blandchromatin  \\\n",
              "0                   1                         2          1               3   \n",
              "1                   5                         7         10               3   \n",
              "2                   1                         2          2               3   \n",
              "3                   1                         3          4               3   \n",
              "4                   3                         2          1               3   \n",
              "..                ...                       ...        ...             ...   \n",
              "694                 1                         3          2               1   \n",
              "695                 1                         2          1               1   \n",
              "696                 3                         7          3               8   \n",
              "697                 4                         3          4              10   \n",
              "698                 5                         4          5              10   \n",
              "\n",
              "     normalnucleoli  mitoses  classification  \n",
              "0                 1        1               2  \n",
              "1                 2        1               2  \n",
              "2                 1        1               2  \n",
              "3                 7        1               2  \n",
              "4                 1        1               2  \n",
              "..              ...      ...             ...  \n",
              "694               1        1               2  \n",
              "695               1        1               2  \n",
              "696              10        2               4  \n",
              "697               6        1               4  \n",
              "698               4        1               4  \n",
              "\n",
              "[699 rows x 10 columns]"
            ]
          },
          "metadata": {},
          "execution_count": 43
        }
      ],
      "metadata": {
        "colab": {
          "base_uri": "https://localhost:8080/",
          "height": 439
        },
        "id": "86cbYOHKz-t6",
        "outputId": "ffe2afe4-bceb-4a81-c94b-d675ce20b1f6"
      }
    },
    {
      "cell_type": "code",
      "execution_count": null,
      "source": [
        "for i in main_dataframe.columns:\n",
        "  print(i,main_dataframe[i].unique())"
      ],
      "outputs": [
        {
          "output_type": "stream",
          "name": "stdout",
          "text": [
            "clumpthickness [ 5  3  6  4  8  1  2  7 10  9]\n",
            "uniformityofcellsize [ 1  4  8 10  2  3  7  5  6  9]\n",
            "uniformityofcellshape [ 1  4  8 10  2  3  5  6  7  9]\n",
            "marginaladhesion [ 1  5  3  8 10  4  6  2  9  7]\n",
            "singleepithelialcellsize [ 2  7  3  1  6  4  5  8 10  9]\n",
            "barenuclei ['1' '10' '2' '4' '3' '9' '7' '?' '5' '8' '6']\n",
            "blandchromatin [ 3  9  1  2  4  5  7  8  6 10]\n",
            "normalnucleoli [ 1  2  7  4  5  3 10  6  9  8]\n",
            "mitoses [ 1  5  4  2  3  7 10  8  6]\n",
            "classification [2 4]\n"
          ]
        }
      ],
      "metadata": {
        "colab": {
          "base_uri": "https://localhost:8080/"
        },
        "id": "J36l2y3O3829",
        "outputId": "67a9e379-e800-459c-ad44-f3ca73838ab5"
      }
    },
    {
      "cell_type": "markdown",
      "source": [
        "### replacing all the missing values with the mean of the coloumn. as there are only 16 missing values, removing the coloumn would have been too much, and replacing the issing values with mean gave better accuracy compared to dropping the rows."
      ],
      "metadata": {}
    },
    {
      "cell_type": "code",
      "execution_count": null,
      "source": [
        "main_dataframe['barenuclei']=main_dataframe['barenuclei'].replace(to_replace = ['?'], value =['3'])"
      ],
      "outputs": [],
      "metadata": {
        "id": "yTmKZqaX4_UE"
      }
    },
    {
      "cell_type": "code",
      "execution_count": null,
      "source": [
        "main_dataframe['barenuclei'].value_counts()"
      ],
      "outputs": [
        {
          "output_type": "execute_result",
          "data": {
            "text/plain": [
              "1     402\n",
              "10    132\n",
              "3      44\n",
              "2      30\n",
              "5      30\n",
              "8      21\n",
              "4      19\n",
              "9       9\n",
              "7       8\n",
              "6       4\n",
              "Name: barenuclei, dtype: int64"
            ]
          },
          "metadata": {},
          "execution_count": 46
        }
      ],
      "metadata": {
        "colab": {
          "base_uri": "https://localhost:8080/"
        },
        "id": "uF4aQKm_5S9C",
        "outputId": "cd050768-f357-44a9-b271-813f36df4d9d"
      }
    },
    {
      "cell_type": "code",
      "execution_count": null,
      "source": [
        "main_dataframe['barenuclei'].unique()"
      ],
      "outputs": [
        {
          "output_type": "execute_result",
          "data": {
            "text/plain": [
              "array(['1', '10', '2', '4', '3', '9', '7', '5', '8', '6'], dtype=object)"
            ]
          },
          "metadata": {},
          "execution_count": 47
        }
      ],
      "metadata": {
        "colab": {
          "base_uri": "https://localhost:8080/"
        },
        "id": "RNpdgbyb6sEv",
        "outputId": "e87e861e-8d21-42bd-f8c1-82a97bf7a2e3"
      }
    },
    {
      "cell_type": "code",
      "execution_count": null,
      "source": [
        "main_dataframe.shape"
      ],
      "outputs": [
        {
          "output_type": "execute_result",
          "data": {
            "text/plain": [
              "(699, 10)"
            ]
          },
          "metadata": {},
          "execution_count": 48
        }
      ],
      "metadata": {
        "colab": {
          "base_uri": "https://localhost:8080/"
        },
        "id": "_2QHptBk656U",
        "outputId": "40232871-2ad8-41cc-a23c-569841654c71"
      }
    },
    {
      "cell_type": "code",
      "execution_count": null,
      "source": [
        "for i in main_dataframe['barenuclei'].unique():\n",
        "   main_dataframe['barenuclei']=main_dataframe['barenuclei'].replace(to_replace = [i], value =[int(i)])"
      ],
      "outputs": [],
      "metadata": {
        "colab": {
          "base_uri": "https://localhost:8080/",
          "height": 391
        },
        "id": "Msn7zhQw58kY",
        "outputId": "51d5f05d-d238-4b73-8132-5c504e7b859a"
      }
    },
    {
      "cell_type": "code",
      "execution_count": null,
      "source": [
        "main_dataframe.describe()"
      ],
      "outputs": [
        {
          "output_type": "execute_result",
          "data": {
            "text/html": [
              "<div>\n",
              "<style scoped>\n",
              "    .dataframe tbody tr th:only-of-type {\n",
              "        vertical-align: middle;\n",
              "    }\n",
              "\n",
              "    .dataframe tbody tr th {\n",
              "        vertical-align: top;\n",
              "    }\n",
              "\n",
              "    .dataframe thead th {\n",
              "        text-align: right;\n",
              "    }\n",
              "</style>\n",
              "<table border=\"1\" class=\"dataframe\">\n",
              "  <thead>\n",
              "    <tr style=\"text-align: right;\">\n",
              "      <th></th>\n",
              "      <th>clumpthickness</th>\n",
              "      <th>uniformityofcellsize</th>\n",
              "      <th>uniformityofcellshape</th>\n",
              "      <th>marginaladhesion</th>\n",
              "      <th>singleepithelialcellsize</th>\n",
              "      <th>barenuclei</th>\n",
              "      <th>blandchromatin</th>\n",
              "      <th>normalnucleoli</th>\n",
              "      <th>mitoses</th>\n",
              "      <th>classification</th>\n",
              "    </tr>\n",
              "  </thead>\n",
              "  <tbody>\n",
              "    <tr>\n",
              "      <th>count</th>\n",
              "      <td>699.000000</td>\n",
              "      <td>699.000000</td>\n",
              "      <td>699.000000</td>\n",
              "      <td>699.000000</td>\n",
              "      <td>699.000000</td>\n",
              "      <td>699.000000</td>\n",
              "      <td>699.000000</td>\n",
              "      <td>699.000000</td>\n",
              "      <td>699.000000</td>\n",
              "      <td>699.000000</td>\n",
              "    </tr>\n",
              "    <tr>\n",
              "      <th>mean</th>\n",
              "      <td>4.417740</td>\n",
              "      <td>3.134478</td>\n",
              "      <td>3.207439</td>\n",
              "      <td>2.806867</td>\n",
              "      <td>3.216023</td>\n",
              "      <td>3.532189</td>\n",
              "      <td>3.437768</td>\n",
              "      <td>2.866953</td>\n",
              "      <td>1.589413</td>\n",
              "      <td>2.689557</td>\n",
              "    </tr>\n",
              "    <tr>\n",
              "      <th>std</th>\n",
              "      <td>2.815741</td>\n",
              "      <td>3.051459</td>\n",
              "      <td>2.971913</td>\n",
              "      <td>2.855379</td>\n",
              "      <td>2.214300</td>\n",
              "      <td>3.602774</td>\n",
              "      <td>2.438364</td>\n",
              "      <td>3.053634</td>\n",
              "      <td>1.715078</td>\n",
              "      <td>0.951273</td>\n",
              "    </tr>\n",
              "    <tr>\n",
              "      <th>min</th>\n",
              "      <td>1.000000</td>\n",
              "      <td>1.000000</td>\n",
              "      <td>1.000000</td>\n",
              "      <td>1.000000</td>\n",
              "      <td>1.000000</td>\n",
              "      <td>1.000000</td>\n",
              "      <td>1.000000</td>\n",
              "      <td>1.000000</td>\n",
              "      <td>1.000000</td>\n",
              "      <td>2.000000</td>\n",
              "    </tr>\n",
              "    <tr>\n",
              "      <th>25%</th>\n",
              "      <td>2.000000</td>\n",
              "      <td>1.000000</td>\n",
              "      <td>1.000000</td>\n",
              "      <td>1.000000</td>\n",
              "      <td>2.000000</td>\n",
              "      <td>1.000000</td>\n",
              "      <td>2.000000</td>\n",
              "      <td>1.000000</td>\n",
              "      <td>1.000000</td>\n",
              "      <td>2.000000</td>\n",
              "    </tr>\n",
              "    <tr>\n",
              "      <th>50%</th>\n",
              "      <td>4.000000</td>\n",
              "      <td>1.000000</td>\n",
              "      <td>1.000000</td>\n",
              "      <td>1.000000</td>\n",
              "      <td>2.000000</td>\n",
              "      <td>1.000000</td>\n",
              "      <td>3.000000</td>\n",
              "      <td>1.000000</td>\n",
              "      <td>1.000000</td>\n",
              "      <td>2.000000</td>\n",
              "    </tr>\n",
              "    <tr>\n",
              "      <th>75%</th>\n",
              "      <td>6.000000</td>\n",
              "      <td>5.000000</td>\n",
              "      <td>5.000000</td>\n",
              "      <td>4.000000</td>\n",
              "      <td>4.000000</td>\n",
              "      <td>5.000000</td>\n",
              "      <td>5.000000</td>\n",
              "      <td>4.000000</td>\n",
              "      <td>1.000000</td>\n",
              "      <td>4.000000</td>\n",
              "    </tr>\n",
              "    <tr>\n",
              "      <th>max</th>\n",
              "      <td>10.000000</td>\n",
              "      <td>10.000000</td>\n",
              "      <td>10.000000</td>\n",
              "      <td>10.000000</td>\n",
              "      <td>10.000000</td>\n",
              "      <td>10.000000</td>\n",
              "      <td>10.000000</td>\n",
              "      <td>10.000000</td>\n",
              "      <td>10.000000</td>\n",
              "      <td>4.000000</td>\n",
              "    </tr>\n",
              "  </tbody>\n",
              "</table>\n",
              "</div>"
            ],
            "text/plain": [
              "       clumpthickness  uniformityofcellsize  uniformityofcellshape  \\\n",
              "count      699.000000            699.000000             699.000000   \n",
              "mean         4.417740              3.134478               3.207439   \n",
              "std          2.815741              3.051459               2.971913   \n",
              "min          1.000000              1.000000               1.000000   \n",
              "25%          2.000000              1.000000               1.000000   \n",
              "50%          4.000000              1.000000               1.000000   \n",
              "75%          6.000000              5.000000               5.000000   \n",
              "max         10.000000             10.000000              10.000000   \n",
              "\n",
              "       marginaladhesion  singleepithelialcellsize  barenuclei  blandchromatin  \\\n",
              "count        699.000000                699.000000  699.000000      699.000000   \n",
              "mean           2.806867                  3.216023    3.532189        3.437768   \n",
              "std            2.855379                  2.214300    3.602774        2.438364   \n",
              "min            1.000000                  1.000000    1.000000        1.000000   \n",
              "25%            1.000000                  2.000000    1.000000        2.000000   \n",
              "50%            1.000000                  2.000000    1.000000        3.000000   \n",
              "75%            4.000000                  4.000000    5.000000        5.000000   \n",
              "max           10.000000                 10.000000   10.000000       10.000000   \n",
              "\n",
              "       normalnucleoli     mitoses  classification  \n",
              "count      699.000000  699.000000      699.000000  \n",
              "mean         2.866953    1.589413        2.689557  \n",
              "std          3.053634    1.715078        0.951273  \n",
              "min          1.000000    1.000000        2.000000  \n",
              "25%          1.000000    1.000000        2.000000  \n",
              "50%          1.000000    1.000000        2.000000  \n",
              "75%          4.000000    1.000000        4.000000  \n",
              "max         10.000000   10.000000        4.000000  "
            ]
          },
          "metadata": {},
          "execution_count": 50
        }
      ],
      "metadata": {
        "colab": {
          "base_uri": "https://localhost:8080/",
          "height": 317
        },
        "id": "bbmcS9Fb4Mhe",
        "outputId": "f4df280c-5765-4dee-8a1c-fedf53872c17"
      }
    },
    {
      "cell_type": "markdown",
      "source": [
        "# Data Exploration"
      ],
      "metadata": {}
    },
    {
      "cell_type": "code",
      "execution_count": null,
      "source": [
        "# Data Exploration\n",
        "sns.set(rc={'figure.figsize':(20,20)})\n",
        "correlation_matrix = main_dataframe.corr().round(2)\n",
        "sns.heatmap(data=correlation_matrix, annot=True)\n",
        "main_dataframe.hist()\n"
      ],
      "outputs": [
        {
          "output_type": "execute_result",
          "data": {
            "text/plain": [
              "array([[<matplotlib.axes._subplots.AxesSubplot object at 0x7f4e45ab52e0>,\n",
              "        <matplotlib.axes._subplots.AxesSubplot object at 0x7f4e45a4ec10>,\n",
              "        <matplotlib.axes._subplots.AxesSubplot object at 0x7f4e45a044c0>],\n",
              "       [<matplotlib.axes._subplots.AxesSubplot object at 0x7f4e45a2dd00>,\n",
              "        <matplotlib.axes._subplots.AxesSubplot object at 0x7f4e459e1580>,\n",
              "        <matplotlib.axes._subplots.AxesSubplot object at 0x7f4e4598adc0>],\n",
              "       [<matplotlib.axes._subplots.AxesSubplot object at 0x7f4e45998cd0>,\n",
              "        <matplotlib.axes._subplots.AxesSubplot object at 0x7f4e4594d5b0>,\n",
              "        <matplotlib.axes._subplots.AxesSubplot object at 0x7f4e4591d700>],\n",
              "       [<matplotlib.axes._subplots.AxesSubplot object at 0x7f4e454def40>,\n",
              "        <matplotlib.axes._subplots.AxesSubplot object at 0x7f4e4549e5b0>,\n",
              "        <matplotlib.axes._subplots.AxesSubplot object at 0x7f4e4549e850>]],\n",
              "      dtype=object)"
            ]
          },
          "metadata": {},
          "execution_count": 51
        },
        {
          "output_type": "display_data",
          "data": {
            "image/png": "[encoded data removed]",
            "text/plain": [
              "<Figure size 1440x1440 with 2 Axes>"
            ]
          },
          "metadata": {}
        },
        {
          "output_type": "display_data",
          "data": {
            "image/png": "[encoded data removed]",
            "text/plain": [
              "<Figure size 1440x1440 with 12 Axes>"
            ]
          },
          "metadata": {}
        }
      ],
      "metadata": {
        "colab": {
          "base_uri": "https://localhost:8080/",
          "height": 1000
        },
        "id": "7QiOaiihz-t_",
        "outputId": "ae713fde-d02b-4b78-b884-cd4d9205424e"
      }
    },
    {
      "cell_type": "markdown",
      "source": [
        "### we observe that except mitosis all other features have a pretty high co-relation with our target variable"
      ],
      "metadata": {
        "id": "8YwjZDH0z-uA"
      }
    },
    {
      "cell_type": "markdown",
      "source": [
        "## splitting data and converting target coloumn to binary\n"
      ],
      "metadata": {
        "id": "kXZKCYtRz-uB"
      }
    },
    {
      "cell_type": "code",
      "execution_count": null,
      "source": [
        "learning_data_frame = main_dataframe.sample(frac=0.8, random_state=200)\n",
        "testing_data_frame = main_dataframe.drop(learning_data_frame.index)\n",
        "\n",
        "# seperating features and target\n",
        "\n",
        "X_learn = learning_data_frame.iloc[:,0:9] #features\n",
        "Y_learn = learning_data_frame.iloc[:,9:10] # target\n",
        "\n",
        "X_test = testing_data_frame.iloc[:,0:9] #features\n",
        "Y_test = testing_data_frame.iloc[:,9:10] # target\n",
        "\n",
        "# convert target variable to 0,1.\n",
        "# 1 denotes malignant, 0 denotes benign.\n",
        "\n",
        "Y_learn = Y_learn.replace(to_replace=[2,4], value = [0,1])\n",
        "Y_test = Y_test.replace(to_replace=[2,4],value=[0,1])"
      ],
      "outputs": [],
      "metadata": {
        "id": "3k_8dNydz-uB"
      }
    },
    {
      "cell_type": "markdown",
      "source": [
        "# Logistic Regression"
      ],
      "metadata": {
        "id": "j-jy-JyEz-uC"
      }
    },
    {
      "cell_type": "code",
      "execution_count": null,
      "source": [
        "X_learn.shape,Y_learn.shape "
      ],
      "outputs": [
        {
          "output_type": "execute_result",
          "data": {
            "text/plain": [
              "((559, 9), (559, 1))"
            ]
          },
          "metadata": {},
          "execution_count": 53
        }
      ],
      "metadata": {
        "colab": {
          "base_uri": "https://localhost:8080/"
        },
        "id": "V-5lAGwD0QDW",
        "outputId": "39272b23-8a51-4cba-ea58-350072597bbd"
      }
    },
    {
      "cell_type": "code",
      "execution_count": null,
      "source": [
        "X_test.shape,Y_test.shape "
      ],
      "outputs": [
        {
          "output_type": "execute_result",
          "data": {
            "text/plain": [
              "((140, 9), (140, 1))"
            ]
          },
          "metadata": {},
          "execution_count": 54
        }
      ],
      "metadata": {
        "colab": {
          "base_uri": "https://localhost:8080/"
        },
        "id": "o1TxDFF50P_-",
        "outputId": "78ee09bc-087e-4156-a4da-24e77bba39e7"
      }
    },
    {
      "cell_type": "code",
      "execution_count": null,
      "source": [
        "X_learn=X_learn.to_numpy()\n",
        "Y_learn=Y_learn.to_numpy()\n",
        "X_test=X_test.to_numpy()\n",
        "Y_test=Y_test.to_numpy()"
      ],
      "outputs": [],
      "metadata": {
        "id": "qNx05sKw0zU-"
      }
    },
    {
      "cell_type": "markdown",
      "source": [
        "## defining Sigmoid Function   "
      ],
      "metadata": {
        "id": "5wNcO4yuz-uD"
      }
    },
    {
      "cell_type": "code",
      "execution_count": null,
      "source": [
        "#Defining a sigmoid function\n",
        "def sigmoid(z):\n",
        "    op = 1/(1 + np.exp(-z)) \n",
        "    return op\n"
      ],
      "outputs": [],
      "metadata": {
        "id": "irchiqssz-uD"
      }
    },
    {
      "cell_type": "markdown",
      "source": [
        "## Defining the cost function"
      ],
      "metadata": {}
    },
    {
      "cell_type": "code",
      "execution_count": null,
      "source": [
        "\n",
        "def loss(h, y):\n",
        "    return (-y * np.log(h) - (1 - y) * np.log(1 - h)).mean()\n",
        "\n",
        "\n"
      ],
      "outputs": [],
      "metadata": {}
    },
    {
      "cell_type": "markdown",
      "source": [
        "## defining gradient descent"
      ],
      "metadata": {}
    },
    {
      "cell_type": "code",
      "execution_count": null,
      "source": [
        " \n",
        "def gradient_descent(X, h, y):\n",
        "    return np.dot(X.T, (h - y)) / y.shape[0]"
      ],
      "outputs": [],
      "metadata": {}
    },
    {
      "cell_type": "markdown",
      "source": [
        "## Logistic Regression Implementation"
      ],
      "metadata": {}
    },
    {
      "cell_type": "code",
      "execution_count": null,
      "source": [
        "class LogisticRegression:\n",
        "    def __init__(self,x,y):      \n",
        "        self.intercept = np.ones((x.shape[0], 1))  \n",
        "        self.x = np.concatenate((self.intercept, x), axis=1)\n",
        "        self.weight = np.zeros(self.x.shape[1])\n",
        "        self.y = y\n",
        "         \n",
        "    #Sigmoid method\n",
        "    def sigmoid(self, x, weight):\n",
        "        z = np.dot(x, weight)\n",
        "        return 1 / (1 + np.exp(-z))\n",
        "     \n",
        "    #method to calculate the Loss\n",
        "    def loss(self, h, y):\n",
        "        return (-y * np.log(h) - (1 - y) * np.log(1 - h)).mean()\n",
        "     \n",
        "    #Method for calculating the gradients\n",
        "    def gradient_descent(self, X, h, y):\n",
        "        return np.dot(X.T, (h - y)) / y.shape[0]\n",
        " \n",
        "     \n",
        "    def fit(self, lr , iterations):\n",
        "        for i in range(iterations):\n",
        "            sigma = self.sigmoid(self.x, self.weight)\n",
        "             \n",
        "            loss = self.loss(sigma,self.y)\n",
        " \n",
        "            dW = self.gradient_descent(self.x , sigma, self.y)\n",
        "             \n",
        "            #Updating the weights\n",
        "            self.weight -= lr * dW\n",
        " \n",
        "        return print('fitted successfully to data')\n",
        "     \n",
        "    #Method to predict the class label.\n",
        "    def predict(self, x_new , treshold):\n",
        "        temp=np.ones((x_new.shape[0], 1))\n",
        "        x_new = np.concatenate((temp, x_new), axis=1)\n",
        "        result = self.sigmoid(x_new, self.weight)\n",
        "        result = result >= treshold\n",
        "        y_pred = np.zeros(result.shape[0])\n",
        "        for i in range(len(y_pred)):\n",
        "            if result[i] == True: \n",
        "                y_pred[i] = 1\n",
        "            else:\n",
        "                continue\n",
        "                 \n",
        "        return y_pred"
      ],
      "outputs": [],
      "metadata": {
        "id": "2VAJzOOQz-uF"
      }
    },
    {
      "cell_type": "code",
      "execution_count": null,
      "source": [
        "#Preparing the data\n",
        "x = X_learn\n",
        "y = np.reshape(Y_learn, (np.product(Y_learn.shape),))\n",
        "x_test = X_test\n",
        "y_test = np.reshape(Y_test, (np.product(Y_test.shape),))\n",
        " \n",
        "print(x.shape,y.shape)\n",
        "print(x_test.shape,y_test.shape)"
      ],
      "outputs": [
        {
          "output_type": "stream",
          "name": "stdout",
          "text": [
            "(559, 9) (559,)\n",
            "(140, 9) (140,)\n"
          ]
        }
      ],
      "metadata": {
        "colab": {
          "base_uri": "https://localhost:8080/"
        },
        "id": "DQ4uAMP-10Tn",
        "outputId": "c1e7f8da-e8cf-4bd3-f0f8-04c2c40c57f0"
      }
    },
    {
      "cell_type": "markdown",
      "source": [
        "## Training the model"
      ],
      "metadata": {}
    },
    {
      "cell_type": "code",
      "execution_count": null,
      "source": [
        "#creating the class Object\n",
        "regressor = LogisticRegression(x,y)\n",
        " \n",
        "#\n",
        "regressor.fit(0.1 , 5000)\n",
        "\n",
        "y_pred = regressor.predict(x,0.5)\n",
        "print('Train accuracy -> {}'.format(sum(y_pred == y)*100 / y.shape[0]))"
      ],
      "outputs": [
        {
          "output_type": "stream",
          "name": "stdout",
          "text": [
            "fitted successfully to data\n",
            "Train accuracy -> 96.4221824686941\n"
          ]
        }
      ],
      "metadata": {
        "colab": {
          "base_uri": "https://localhost:8080/"
        },
        "id": "Rmwup6eX7k4A",
        "outputId": "e0427996-22c9-4668-a152-e0c61a5f2bbf"
      }
    },
    {
      "cell_type": "markdown",
      "source": [
        "## Validating the model"
      ],
      "metadata": {}
    },
    {
      "cell_type": "code",
      "execution_count": null,
      "source": [
        "print(x_test.shape,y_test.shape)"
      ],
      "outputs": [
        {
          "output_type": "stream",
          "name": "stdout",
          "text": [
            "(140, 9) (140,)\n"
          ]
        }
      ],
      "metadata": {
        "colab": {
          "base_uri": "https://localhost:8080/"
        },
        "id": "WkcmXWn88pM7",
        "outputId": "ee5d628d-9ecf-45f8-803e-77c9236ab3b8"
      }
    },
    {
      "cell_type": "code",
      "execution_count": null,
      "source": [
        "y_pred_test = regressor.predict(x_test,0.5)\n",
        "print('Test accuracy -> {}'.format(sum(y_pred_test == y_test)*100 / y_test.shape[0]))"
      ],
      "outputs": [
        {
          "output_type": "stream",
          "name": "stdout",
          "text": [
            "Test accuracy -> 97.85714285714286\n"
          ]
        }
      ],
      "metadata": {
        "colab": {
          "base_uri": "https://localhost:8080/"
        },
        "id": "LpVD05488rc8",
        "outputId": "0aaa4662-1c3a-4aaa-da18-da95aea4cb5e"
      }
    },
    {
      "cell_type": "markdown",
      "source": [
        "# Bayes classifier using gaussian distribution "
      ],
      "metadata": {
        "id": "RReL9sDXz-uH"
      }
    },
    {
      "cell_type": "code",
      "execution_count": null,
      "source": [
        "main_dataframe"
      ],
      "outputs": [
        {
          "output_type": "execute_result",
          "data": {
            "text/html": [
              "<div>\n",
              "<style scoped>\n",
              "    .dataframe tbody tr th:only-of-type {\n",
              "        vertical-align: middle;\n",
              "    }\n",
              "\n",
              "    .dataframe tbody tr th {\n",
              "        vertical-align: top;\n",
              "    }\n",
              "\n",
              "    .dataframe thead th {\n",
              "        text-align: right;\n",
              "    }\n",
              "</style>\n",
              "<table border=\"1\" class=\"dataframe\">\n",
              "  <thead>\n",
              "    <tr style=\"text-align: right;\">\n",
              "      <th></th>\n",
              "      <th>clumpthickness</th>\n",
              "      <th>uniformityofcellsize</th>\n",
              "      <th>uniformityofcellshape</th>\n",
              "      <th>marginaladhesion</th>\n",
              "      <th>singleepithelialcellsize</th>\n",
              "      <th>barenuclei</th>\n",
              "      <th>blandchromatin</th>\n",
              "      <th>normalnucleoli</th>\n",
              "      <th>mitoses</th>\n",
              "      <th>classification</th>\n",
              "    </tr>\n",
              "  </thead>\n",
              "  <tbody>\n",
              "    <tr>\n",
              "      <th>0</th>\n",
              "      <td>5</td>\n",
              "      <td>1</td>\n",
              "      <td>1</td>\n",
              "      <td>1</td>\n",
              "      <td>2</td>\n",
              "      <td>1</td>\n",
              "      <td>3</td>\n",
              "      <td>1</td>\n",
              "      <td>1</td>\n",
              "      <td>2</td>\n",
              "    </tr>\n",
              "    <tr>\n",
              "      <th>1</th>\n",
              "      <td>5</td>\n",
              "      <td>4</td>\n",
              "      <td>4</td>\n",
              "      <td>5</td>\n",
              "      <td>7</td>\n",
              "      <td>10</td>\n",
              "      <td>3</td>\n",
              "      <td>2</td>\n",
              "      <td>1</td>\n",
              "      <td>2</td>\n",
              "    </tr>\n",
              "    <tr>\n",
              "      <th>2</th>\n",
              "      <td>3</td>\n",
              "      <td>1</td>\n",
              "      <td>1</td>\n",
              "      <td>1</td>\n",
              "      <td>2</td>\n",
              "      <td>2</td>\n",
              "      <td>3</td>\n",
              "      <td>1</td>\n",
              "      <td>1</td>\n",
              "      <td>2</td>\n",
              "    </tr>\n",
              "    <tr>\n",
              "      <th>3</th>\n",
              "      <td>6</td>\n",
              "      <td>8</td>\n",
              "      <td>8</td>\n",
              "      <td>1</td>\n",
              "      <td>3</td>\n",
              "      <td>4</td>\n",
              "      <td>3</td>\n",
              "      <td>7</td>\n",
              "      <td>1</td>\n",
              "      <td>2</td>\n",
              "    </tr>\n",
              "    <tr>\n",
              "      <th>4</th>\n",
              "      <td>4</td>\n",
              "      <td>1</td>\n",
              "      <td>1</td>\n",
              "      <td>3</td>\n",
              "      <td>2</td>\n",
              "      <td>1</td>\n",
              "      <td>3</td>\n",
              "      <td>1</td>\n",
              "      <td>1</td>\n",
              "      <td>2</td>\n",
              "    </tr>\n",
              "    <tr>\n",
              "      <th>...</th>\n",
              "      <td>...</td>\n",
              "      <td>...</td>\n",
              "      <td>...</td>\n",
              "      <td>...</td>\n",
              "      <td>...</td>\n",
              "      <td>...</td>\n",
              "      <td>...</td>\n",
              "      <td>...</td>\n",
              "      <td>...</td>\n",
              "      <td>...</td>\n",
              "    </tr>\n",
              "    <tr>\n",
              "      <th>694</th>\n",
              "      <td>3</td>\n",
              "      <td>1</td>\n",
              "      <td>1</td>\n",
              "      <td>1</td>\n",
              "      <td>3</td>\n",
              "      <td>2</td>\n",
              "      <td>1</td>\n",
              "      <td>1</td>\n",
              "      <td>1</td>\n",
              "      <td>2</td>\n",
              "    </tr>\n",
              "    <tr>\n",
              "      <th>695</th>\n",
              "      <td>2</td>\n",
              "      <td>1</td>\n",
              "      <td>1</td>\n",
              "      <td>1</td>\n",
              "      <td>2</td>\n",
              "      <td>1</td>\n",
              "      <td>1</td>\n",
              "      <td>1</td>\n",
              "      <td>1</td>\n",
              "      <td>2</td>\n",
              "    </tr>\n",
              "    <tr>\n",
              "      <th>696</th>\n",
              "      <td>5</td>\n",
              "      <td>10</td>\n",
              "      <td>10</td>\n",
              "      <td>3</td>\n",
              "      <td>7</td>\n",
              "      <td>3</td>\n",
              "      <td>8</td>\n",
              "      <td>10</td>\n",
              "      <td>2</td>\n",
              "      <td>4</td>\n",
              "    </tr>\n",
              "    <tr>\n",
              "      <th>697</th>\n",
              "      <td>4</td>\n",
              "      <td>8</td>\n",
              "      <td>6</td>\n",
              "      <td>4</td>\n",
              "      <td>3</td>\n",
              "      <td>4</td>\n",
              "      <td>10</td>\n",
              "      <td>6</td>\n",
              "      <td>1</td>\n",
              "      <td>4</td>\n",
              "    </tr>\n",
              "    <tr>\n",
              "      <th>698</th>\n",
              "      <td>4</td>\n",
              "      <td>8</td>\n",
              "      <td>8</td>\n",
              "      <td>5</td>\n",
              "      <td>4</td>\n",
              "      <td>5</td>\n",
              "      <td>10</td>\n",
              "      <td>4</td>\n",
              "      <td>1</td>\n",
              "      <td>4</td>\n",
              "    </tr>\n",
              "  </tbody>\n",
              "</table>\n",
              "<p>699 rows × 10 columns</p>\n",
              "</div>"
            ],
            "text/plain": [
              "     clumpthickness  uniformityofcellsize  uniformityofcellshape  \\\n",
              "0                 5                     1                      1   \n",
              "1                 5                     4                      4   \n",
              "2                 3                     1                      1   \n",
              "3                 6                     8                      8   \n",
              "4                 4                     1                      1   \n",
              "..              ...                   ...                    ...   \n",
              "694               3                     1                      1   \n",
              "695               2                     1                      1   \n",
              "696               5                    10                     10   \n",
              "697               4                     8                      6   \n",
              "698               4                     8                      8   \n",
              "\n",
              "     marginaladhesion  singleepithelialcellsize  barenuclei  blandchromatin  \\\n",
              "0                   1                         2           1               3   \n",
              "1                   5                         7          10               3   \n",
              "2                   1                         2           2               3   \n",
              "3                   1                         3           4               3   \n",
              "4                   3                         2           1               3   \n",
              "..                ...                       ...         ...             ...   \n",
              "694                 1                         3           2               1   \n",
              "695                 1                         2           1               1   \n",
              "696                 3                         7           3               8   \n",
              "697                 4                         3           4              10   \n",
              "698                 5                         4           5              10   \n",
              "\n",
              "     normalnucleoli  mitoses  classification  \n",
              "0                 1        1               2  \n",
              "1                 2        1               2  \n",
              "2                 1        1               2  \n",
              "3                 7        1               2  \n",
              "4                 1        1               2  \n",
              "..              ...      ...             ...  \n",
              "694               1        1               2  \n",
              "695               1        1               2  \n",
              "696              10        2               4  \n",
              "697               6        1               4  \n",
              "698               4        1               4  \n",
              "\n",
              "[699 rows x 10 columns]"
            ]
          },
          "metadata": {},
          "execution_count": 64
        }
      ],
      "metadata": {
        "colab": {
          "base_uri": "https://localhost:8080/",
          "height": 439
        },
        "id": "36lC3TRb_s6S",
        "outputId": "75f05181-b536-466f-b6fc-08327fabcf8c"
      }
    },
    {
      "cell_type": "markdown",
      "source": [
        "## boiler plate code"
      ],
      "metadata": {}
    },
    {
      "cell_type": "code",
      "execution_count": null,
      "source": [
        "for i in main_dataframe.columns:\n",
        "  print(i,main_dataframe[i].unique())"
      ],
      "outputs": [
        {
          "output_type": "stream",
          "name": "stdout",
          "text": [
            "clumpthickness [ 5  3  6  4  8  1  2  7 10  9]\n",
            "uniformityofcellsize [ 1  4  8 10  2  3  7  5  6  9]\n",
            "uniformityofcellshape [ 1  4  8 10  2  3  5  6  7  9]\n",
            "marginaladhesion [ 1  5  3  8 10  4  6  2  9  7]\n",
            "singleepithelialcellsize [ 2  7  3  1  6  4  5  8 10  9]\n",
            "barenuclei [ 1 10  2  4  3  9  7  5  8  6]\n",
            "blandchromatin [ 3  9  1  2  4  5  7  8  6 10]\n",
            "normalnucleoli [ 1  2  7  4  5  3 10  6  9  8]\n",
            "mitoses [ 1  5  4  2  3  7 10  8  6]\n",
            "classification [2 4]\n"
          ]
        }
      ],
      "metadata": {
        "colab": {
          "base_uri": "https://localhost:8080/"
        },
        "id": "KTjaYYfW_7nY",
        "outputId": "b4da92da-a088-4aba-b60c-f3acfffd8a7b"
      }
    },
    {
      "cell_type": "code",
      "execution_count": null,
      "source": [
        "learning_data_frame = main_dataframe.sample(frac=0.8, random_state=200)\n",
        "testing_data_frame = main_dataframe.drop(learning_data_frame.index)\n",
        "\n",
        "# seperating features and target\n",
        "\n",
        "X_learn = learning_data_frame.iloc[:,0:9] #features\n",
        "Y_learn = learning_data_frame.iloc[:,9:10] # target\n",
        "\n",
        "X_test = testing_data_frame.iloc[:,0:9] #features\n",
        "Y_test = testing_data_frame.iloc[:,9:10] # target\n",
        "\n",
        "# convert target variable to 0,1.\n",
        "# 1 denotes malignant, 0 denotes benign.\n",
        "\n",
        "Y_learn = Y_learn.replace(to_replace=[2,4], value = [0,1])\n",
        "Y_test = Y_test.replace(to_replace=[2,4],value=[0,1])"
      ],
      "outputs": [],
      "metadata": {
        "id": "DuLizHt-AAqn"
      }
    },
    {
      "cell_type": "code",
      "execution_count": null,
      "source": [
        "X_learn=X_learn.to_numpy()\n",
        "Y_learn=Y_learn.to_numpy()\n",
        "X_test=X_test.to_numpy()\n",
        "Y_test=Y_test.to_numpy()\n",
        "x = X_learn\n",
        "y = np.reshape(Y_learn, (np.product(Y_learn.shape),))\n",
        "x_test = X_test\n",
        "y_test = np.reshape(Y_test, (np.product(Y_test.shape),))"
      ],
      "outputs": [],
      "metadata": {
        "id": "mSb-kj1EAomX"
      }
    },
    {
      "cell_type": "markdown",
      "source": [
        "## Gaussian Bayes classifier"
      ],
      "metadata": {}
    },
    {
      "cell_type": "code",
      "execution_count": null,
      "source": [
        "# classifier implimentation\n",
        "class gaussClf:\n",
        "    def separate_by_classes(self, X, y):\n",
        "        ''' This function separates our dataset in subdatasets by classes '''\n",
        "        self.classes = np.unique(y)\n",
        "        classes_index = {}\n",
        "        subdatasets = {}\n",
        "        cls, counts = np.unique(y, return_counts=True)\n",
        "        self.class_freq = dict(zip(cls, counts))\n",
        "        print(self.class_freq)\n",
        "        for class_type in self.classes:\n",
        "            classes_index[class_type] = np.argwhere(y==class_type)\n",
        "            subdatasets[class_type] = X[classes_index[class_type], :]\n",
        "            self.class_freq[class_type] = self.class_freq[class_type]/sum(list(self.class_freq.values()))\n",
        "        return subdatasets\n",
        "\n",
        "## Training the model\n",
        "\n",
        "    def fit(self, X, y):\n",
        "        ''' The fitting function '''\n",
        "        separated_X = self.separate_by_classes(X, y)\n",
        "        self.means = {}\n",
        "        self.std = {}\n",
        "        for class_type in self.classes:\n",
        "            # Here we calculate the mean and the standart deviation from datasets\n",
        "            self.means[class_type] = np.mean(separated_X[class_type], axis=0)[0]\n",
        "            self.std[class_type] = np.std(separated_X[class_type], axis=0)[0]\n",
        "\n",
        "\n",
        "    def calculate_probability(self, x, mean, stdev):\n",
        "        ''' This function calculates the class probability using gaussian distribution '''\n",
        "        exponent = math.exp(-((x - mean) ** 2 / (2 * stdev ** 2)))\n",
        "        return (1 / (math.sqrt(2 * math.pi) * stdev)) * exponent\n",
        "\n",
        "    def predict_proba(self, X):\n",
        "        ''' This function predicts the probability for every class '''\n",
        "        self.class_prob = {cls:math.log(self.class_freq[cls], math.e) for cls in self.classes}\n",
        "        for cls in self.classes:\n",
        "            for i in range(len(self.means)):\n",
        "                self.class_prob[cls]+=math.log(self.calculate_probability(X[i], self.means[cls][i], self.std[cls][i]), math.e)\n",
        "        self.class_prob = {cls: math.e**self.class_prob[cls] for cls in self.class_prob}\n",
        "        return self.class_prob\n",
        "\n",
        "    def predict(self, X):\n",
        "        ''' This funtion predicts the class of a sample '''\n",
        "        pred = []\n",
        "        for x in X:\n",
        "            pred_class = None\n",
        "            max_prob = 0\n",
        "            for cls, prob in self.predict_proba(x).items():\n",
        "                if prob>max_prob:\n",
        "                    max_prob = prob\n",
        "                    pred_class = cls\n",
        "            pred.append(pred_class)\n",
        "        return pred"
      ],
      "outputs": [],
      "metadata": {
        "id": "RkFxtepwA4et"
      }
    },
    {
      "cell_type": "markdown",
      "source": [
        "## fitting the gaussian"
      ],
      "metadata": {}
    },
    {
      "cell_type": "code",
      "execution_count": null,
      "source": [
        "clf=gaussClf()\n",
        "clf.fit(X_learn,Y_learn)"
      ],
      "outputs": [
        {
          "output_type": "stream",
          "name": "stdout",
          "text": [
            "{0: 366, 1: 193}\n"
          ]
        }
      ],
      "metadata": {
        "colab": {
          "base_uri": "https://localhost:8080/"
        },
        "id": "Rh15yzImBqba",
        "outputId": "b6789f34-fec4-419a-f5f0-b9dea0101c41"
      }
    },
    {
      "cell_type": "markdown",
      "source": [
        "## validating the model"
      ],
      "metadata": {}
    },
    {
      "cell_type": "code",
      "execution_count": null,
      "source": [
        "y_pred=clf.predict(x)\n",
        "print('Train accuracy -> {}'.format(sum(y_pred == y)*100 / y.shape[0]))"
      ],
      "outputs": [
        {
          "output_type": "stream",
          "name": "stdout",
          "text": [
            "Train accuracy -> 94.99105545617174\n"
          ]
        }
      ],
      "metadata": {
        "colab": {
          "base_uri": "https://localhost:8080/"
        },
        "id": "dTdKHzL7DSUc",
        "outputId": "51ee5c60-0db0-4667-e443-fa78feb4e929"
      }
    },
    {
      "cell_type": "code",
      "execution_count": null,
      "source": [
        "y_pred_test=clf.predict(X_test)\n",
        "print('Test accuracy -> {}'.format(sum(y_pred_test == y_test)*100 / y_test.shape[0]))"
      ],
      "outputs": [
        {
          "output_type": "stream",
          "name": "stdout",
          "text": [
            "Test accuracy -> 94.28571428571429\n"
          ]
        }
      ],
      "metadata": {
        "colab": {
          "base_uri": "https://localhost:8080/"
        },
        "id": "AVY_BpL3CBBb",
        "outputId": "99802789-8aec-4a6d-cbfc-e45971d0b3f3"
      }
    }
  ]
}